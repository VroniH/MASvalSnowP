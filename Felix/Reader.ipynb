{
 "cells": [
  {
   "cell_type": "code",
   "execution_count": 3,
   "metadata": {},
   "outputs": [],
   "source": [
    "import numpy as np\n",
    "import pandas as pd\n",
    "import matplotlib\n",
    "import matplotlib.cm as cm\n",
    "import matplotlib.pyplot as plt\n",
    "from matplotlib.lines import Line2D\n",
    "from utils import StationData"
   ]
  },
  {
   "cell_type": "markdown",
   "metadata": {},
   "source": [
    "# Read snowpack data"
   ]
  },
  {
   "cell_type": "code",
   "execution_count": 4,
   "metadata": {},
   "outputs": [
    {
     "ename": "NameError",
     "evalue": "name 'StationData' is not defined",
     "output_type": "error",
     "traceback": [
      "\u001b[0;31m---------------------------------------------------------------------------\u001b[0m",
      "\u001b[0;31mNameError\u001b[0m                                 Traceback (most recent call last)",
      "\u001b[0;32m<ipython-input-4-2346759fc545>\u001b[0m in \u001b[0;36m<module>\u001b[0;34m\u001b[0m\n\u001b[1;32m      1\u001b[0m \u001b[0mfile_name\u001b[0m \u001b[0;34m=\u001b[0m \u001b[0;34m\"PIT01__era5_15.pro\"\u001b[0m\u001b[0;34m\u001b[0m\u001b[0;34m\u001b[0m\u001b[0m\n\u001b[0;32m----> 2\u001b[0;31m \u001b[0mdata\u001b[0m \u001b[0;34m=\u001b[0m \u001b[0mStationData\u001b[0m\u001b[0;34m(\u001b[0m\u001b[0;34m\"/home/user/Documents/Programming/SnowPACK/Masterarbeit/output_optimization/\"\u001b[0m \u001b[0;34m+\u001b[0m \u001b[0mfile_name\u001b[0m\u001b[0;34m)\u001b[0m\u001b[0;34m\u001b[0m\u001b[0;34m\u001b[0m\u001b[0m\n\u001b[0m",
      "\u001b[0;31mNameError\u001b[0m: name 'StationData' is not defined"
     ]
    }
   ],
   "source": [
    "file_name = \"PIT01__era5_15.pro\"\n",
    "data = StationData(\"/home/user/Documents/Programming/SnowPACK/Masterarbeit/output_optimization/\" + file_name)"
   ]
  },
  {
   "cell_type": "code",
   "execution_count": 3,
   "metadata": {
    "scrolled": true
   },
   "outputs": [],
   "source": [
    "#time = pd.to_datetime('2017-03-03 07:00:00')\n",
    "time = pd.to_datetime(\"23/03/17 11:00\")\n",
    "haerte = data.predictions[time].values[\"0534\"]\n",
    "hoehe = [0.] + data.predictions[time].values[\"0501\"]"
   ]
  },
  {
   "cell_type": "markdown",
   "metadata": {},
   "source": [
    "# Read manual data"
   ]
  },
  {
   "cell_type": "code",
   "execution_count": 4,
   "metadata": {
    "scrolled": true
   },
   "outputs": [
    {
     "name": "stdout",
     "output_type": "stream",
     "text": [
      "     profil_id  oberkante  temperatur\n",
      "0         6233      310.0        -7.9\n",
      "1         6233      300.0       -10.2\n",
      "2         6233      290.0        -9.8\n",
      "3         6233      280.0        -9.1\n",
      "4         6233      270.0        -8.6\n",
      "5         6233      260.0        -7.9\n",
      "6         6233      250.0        -7.3\n",
      "7         6233      240.0        -6.6\n",
      "8         6233      230.0        -6.1\n",
      "9         6233      220.0        -5.8\n",
      "10        6233      210.0        -5.2\n",
      "11        6233      200.0        -5.2\n",
      "12        6233      190.0        -4.9\n",
      "13        6233      180.0        -4.3\n",
      "14        6233      160.0        -4.3\n",
      "15        6233      150.0        -4.1\n",
      "16        6233      140.0        -3.8\n",
      "17        6233      130.0        -3.6\n",
      "18        6233      120.0        -3.3\n",
      "19        6233      110.0        -3.3\n",
      "20        6233       90.0        -3.3\n",
      "21        6233       80.0        -3.2\n",
      "22        6233       70.0        -3.2\n",
      "23        6233       60.0        -3.0\n",
      "24        6233       50.0        -3.0\n",
      "25        6233       40.0        -2.8\n",
      "26        6233       30.0        -2.8\n",
      "27        6233        0.0        -1.0\n",
      "28        6233      170.0        -4.3\n",
      "29        6251       45.0       -11.7\n",
      "..         ...        ...         ...\n",
      "129       6400       10.0        -9.4\n",
      "130       6400        0.0        -8.7\n",
      "131       6401      170.0       -21.9\n",
      "132       6401      160.0       -20.2\n",
      "133       6401      150.0       -18.8\n",
      "134       6401      140.0       -17.4\n",
      "135       6401      130.0       -15.8\n",
      "136       6401      120.0       -14.7\n",
      "137       6401      110.0       -13.3\n",
      "138       6401      100.0       -12.0\n",
      "139       6401       90.0       -10.9\n",
      "140       6401       80.0        -9.8\n",
      "141       6401       70.0        -8.4\n",
      "142       6401       60.0        -8.3\n",
      "143       6401       50.0        -7.4\n",
      "144       6401       40.0        -7.3\n",
      "145       6401       30.0        -6.7\n",
      "146       6401       20.0        -6.3\n",
      "147       6401       10.0        -6.1\n",
      "148       6401        0.0        -5.3\n",
      "149       6401      190.0       -22.7\n",
      "150       6401      180.0       -23.0\n",
      "151       6402       67.0       -20.1\n",
      "152       6402       60.0       -20.6\n",
      "153       6402       50.0       -20.3\n",
      "154       6402       40.0       -18.2\n",
      "155       6402       30.0       -16.7\n",
      "156       6402       20.0       -15.4\n",
      "157       6402       10.0       -14.5\n",
      "158       6402        0.0       -14.3\n",
      "\n",
      "[159 rows x 3 columns]\n"
     ]
    },
    {
     "name": "stderr",
     "output_type": "stream",
     "text": [
      "c:\\users\\computer\\appdata\\local\\programs\\python\\python35\\lib\\site-packages\\ipykernel_launcher.py:23: SettingWithCopyWarning: \n",
      "A value is trying to be set on a copy of a slice from a DataFrame.\n",
      "Try using .loc[row_indexer,col_indexer] = value instead\n",
      "\n",
      "See the caveats in the documentation: http://pandas.pydata.org/pandas-docs/stable/indexing.html#indexing-view-versus-copy\n",
      "c:\\users\\computer\\appdata\\local\\programs\\python\\python35\\lib\\site-packages\\ipykernel_launcher.py:24: SettingWithCopyWarning: \n",
      "A value is trying to be set on a copy of a slice from a DataFrame.\n",
      "Try using .loc[row_indexer,col_indexer] = value instead\n",
      "\n",
      "See the caveats in the documentation: http://pandas.pydata.org/pandas-docs/stable/indexing.html#indexing-view-versus-copy\n"
     ]
    }
   ],
   "source": [
    "folder_path = \"../Profildaten_LAWIS\"\n",
    "\n",
    "data_layers = pd.read_csv(folder_path+\"/profiles_hatvan_schichten.csv\", header=0, na_filter=\"\\\\N\")\n",
    "data_temp = pd.read_csv(folder_path+\"/profiles_hatvan_schneetemperaturen.csv\", header = 0)\n",
    "\n",
    "data_layers.set_index(keys=['profil_id'], drop=False,inplace=True)\n",
    "print(data_temp)\n",
    "profID=data_layers['profil_id'].unique().tolist()\n",
    "profID = [ID for ID in profID if ID > 6000]\n",
    "Pit1 = data_layers.loc[data_layers.profil_id==6233.0]\n",
    "Pit2 = data_layers.loc[data_layers.profil_id==6251.0]\n",
    "Pit3 = data_layers.loc[data_layers.profil_id==6252.0]\n",
    "Pit4 = data_layers.loc[data_layers.profil_id==6287.0]\n",
    "Pit5 = data_layers.loc[data_layers.profil_id==6288.0]\n",
    "Pit6 = data_layers.loc[data_layers.profil_id==6289.0]\n",
    "Pit7 = data_layers.loc[data_layers.profil_id==6291.0]\n",
    "Pit8 = data_layers.loc[data_layers.profil_id==6333.0]\n",
    "Pit9 = data_layers.loc[data_layers.profil_id==6400.0]\n",
    "Pit10 = data_layers.loc[data_layers.profil_id==6401.0]\n",
    "Pit11 = data_layers.loc[data_layers.profil_id==6402.0]\n",
    "\n",
    "for pit in [Pit1, Pit2, Pit3, Pit4, Pit5, Pit6, Pit7, Pit8, Pit9, Pit10, Pit11]:\n",
    "    pit[\"normedTop\"] = pit[\"vonhoehe\"]/max(pit[\"vonhoehe\"])\n",
    "    pit[\"normedBottom\"] = pit[\"bishoehe\"]/max(pit[\"vonhoehe\"])\n",
    "#     pit[\"temperature\"] = \n",
    "#     print(pit)\n",
    "\n"
   ]
  },
  {
   "cell_type": "markdown",
   "metadata": {},
   "source": [
    "# Plotting"
   ]
  },
  {
   "cell_type": "code",
   "execution_count": 5,
   "metadata": {},
   "outputs": [
    {
     "data": {
      "image/png": "[encoded data removed]",
      "text/plain": [
       "<matplotlib.figure.Figure at 0x27bcbf4d080>"
      ]
     },
     "metadata": {},
     "output_type": "display_data"
    }
   ],
   "source": [
    "plt.style.use('ggplot')\n",
    "\n",
    "file_name = \"pit_harndess_snowpack\"\n",
    "norm = matplotlib.colors.Normalize(vmin=1, vmax=6, clip=True)\n",
    "mapper = cm.ScalarMappable(norm=norm, cmap=plt.get_cmap(\"Blues\",11))\n",
    "\n",
    "#pits = [Pit2, Pit6, Pit7, Pit9, Pit1, Pit3, Pit4, Pit5, Pit8, Pit10, Pit11]\n",
    "\n",
    "fig, axes = plt.subplots(1, 1, figsize=(12, 6))\n",
    "fig.subplots_adjust(left=.1, bottom=.05, right=.98, top=.98)\n",
    "\n",
    "for i in range(len(haerte)):\n",
    "    color = mapper.to_rgba(abs(haerte[i]))\n",
    "    von = hoehe[i]\n",
    "    bis = hoehe[i+1]\n",
    "    plt.bar(x=0.6 ,bottom=bis, height=von-bis, left=0.0, width=0.8, color=color)\n",
    "\n",
    "pit=Pit2\n",
    "for von, bis, haerte_ in zip(pit[\"vonhoehe\"],pit[\"bishoehe\"],pit[\"haerte\"]):\n",
    "    color = mapper.to_rgba(haerte_)\n",
    "    plt.bar(x=1.6 ,bottom=bis, height=von-bis, left=0.0, width=0.8, color=color)\n",
    "\n",
    "        \n",
    "hardnessnames = [\"F\",\"F - 4F\", \"4F\", \"4F - 1F\", \"1F\", \"1F - P\", \"P\", \"P - K\", \"K\", \"K - I\", \"I\"]\n",
    "#cbar = fig.colorbar(cax, ax=axes, ticks=np.linspace(1,6,12,endpoint=True) + 0.21, orientation='vertical')\n",
    "#cbar.set_label(\"Hardness\")\n",
    "#cbar.ax.set_yticklabels(hardnessnames)\n",
    "\n",
    "axes.set_ylabel(\"Snow height $(\\\\mathrm{cm})$\")\n",
    "ystep = 20\n",
    "yticks = np.arange(0, 310+ystep, ystep)\n",
    "axes.set_yticks(yticks)\n",
    "\n",
    "\n",
    "#xticklabels = [\"Pit %d\" % i for i in [2,6,7,9,1,3,4,5,8,10,11]]\n",
    "axes.set_xlim([0,5])\n",
    "#axes.set_xticks(np.linspace(0,10,11,endpoint=True)+1.0)\n",
    "#axes.set_xticklabels(xticklabels)\n",
    "axes.xaxis.grid(False)\n",
    "axes.yaxis.grid(True, color=\".5\", linestyle=\"-\")\n",
    "\n",
    "axes.set_facecolor((1.0, 1.0, 1.0))\n",
    "axes.tick_params(axis='both', top=False, right=False, left=False, bottom=True)\n",
    "axes.spines['bottom'].set_color('0.0')\n",
    "\n",
    "plt.show()\n",
    "#fig.savefig(\"../plots/%s.eps\" % file_name)\n",
    "#fig.savefig(\"../plots/%s.png\" % file_name, dpi=200)\n",
    "\n",
    "\n",
    "plt.show()"
   ]
  },
  {
   "cell_type": "code",
   "execution_count": 6,
   "metadata": {},
   "outputs": [
    {
     "data": {
      "text/plain": [
       "4.0"
      ]
     },
     "execution_count": 6,
     "metadata": {},
     "output_type": "execute_result"
    }
   ],
   "source": [
    "abs(haerte[1])"
   ]
  },
  {
   "cell_type": "code",
   "execution_count": null,
   "metadata": {},
   "outputs": [],
   "source": []
  }
 ],
 "metadata": {
  "kernelspec": {
   "display_name": "Python 3",
   "language": "python",
   "name": "python3"
  },
  "language_info": {
   "codemirror_mode": {
    "name": "ipython",
    "version": 3
   },
   "file_extension": ".py",
   "mimetype": "text/x-python",
   "name": "python",
   "nbconvert_exporter": "python",
   "pygments_lexer": "ipython3",
   "version": "3.7.1"
  }
 },
 "nbformat": 4,
 "nbformat_minor": 2
}
